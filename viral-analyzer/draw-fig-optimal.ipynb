{
 "cells": [
  {
   "cell_type": "markdown",
   "id": "4341f2a9",
   "metadata": {},
   "source": [
    "Import modules and define constants."
   ]
  },
  {
   "cell_type": "code",
   "execution_count": 1,
   "id": "90db7754",
   "metadata": {},
   "outputs": [],
   "source": [
    "import matplotlib.pyplot as plt\n",
    "import numpy as np\n",
    "import json\n",
    "import os\n",
    "import modules.analyzer as an\n",
    "\n",
    "# Constants\n",
    "SETTING_PATH = \"draw-figures-settings.json\"\n",
    "DATASET_PATHS = [\n",
    "    \"outputs-figures\",\n",
    "    \"outputs-reproduce/cov-wt-minimizers\",\n",
    "]"
   ]
  },
  {
   "cell_type": "markdown",
   "id": "a21f1158",
   "metadata": {},
   "source": [
    "Import the setting file (which is shared with `draw-figures.py` script)."
   ]
  },
  {
   "cell_type": "code",
   "execution_count": 2,
   "id": "565b2660",
   "metadata": {},
   "outputs": [],
   "source": [
    "# Read the settings\n",
    "assert os.path.exists(SETTING_PATH), \"Setting file does not exist!\"\n",
    "with open(SETTING_PATH, \"r\") as f:\n",
    "    settings = json.load(f)"
   ]
  },
  {
   "cell_type": "markdown",
   "id": "9d649a3e",
   "metadata": {},
   "source": [
    "Import the minimizer files. These files must be prepared using `main.py` program. See README for the details."
   ]
  },
  {
   "cell_type": "code",
   "execution_count": 3,
   "id": "f31a192f",
   "metadata": {},
   "outputs": [
    {
     "name": "stdout",
     "output_type": "stream",
     "text": [
      "Loaded outputs-reproduce/cov-wt-minimizers/hie/wt2dms-min.csv with metadata.\n",
      "Loaded outputs-reproduce/cov-wt-minimizers/hie/wt2delta-min.csv with metadata.\n",
      "Loaded outputs-reproduce/cov-wt-minimizers/hie/wt2combined-min.csv with metadata.\n",
      "Loaded outputs-reproduce/cov-wt-minimizers/hie/wt2beta-min.csv with metadata.\n",
      "Loaded outputs-reproduce/cov-wt-minimizers/hie/wt2omicron-min.csv with metadata.\n",
      "Loaded outputs-reproduce/cov-wt-minimizers/hie/wt2alpha-min.csv with metadata.\n",
      "Loaded outputs-reproduce/cov-wt-minimizers/esm2-3b-cos/wt2beta-min.csv with metadata.\n",
      "Loaded outputs-reproduce/cov-wt-minimizers/esm2-3b-cos/wt2alpha-min.csv with metadata.\n",
      "Loaded outputs-reproduce/cov-wt-minimizers/esm2-3b-cos/wt2omicron-min.csv with metadata.\n",
      "Loaded outputs-reproduce/cov-wt-minimizers/esm2-3b-cos/wt2dms-min.csv with metadata.\n",
      "Loaded outputs-reproduce/cov-wt-minimizers/esm2-3b-cos/wt2delta-min.csv with metadata.\n",
      "Loaded outputs-reproduce/cov-wt-minimizers/esm2-3b-cos/wt2combined-min.csv with metadata.\n",
      "Loaded outputs-reproduce/cov-wt-minimizers/random/wt2omicron-min.csv with metadata.\n",
      "Loaded outputs-reproduce/cov-wt-minimizers/random/wt2dms-min.csv with metadata.\n",
      "Loaded outputs-reproduce/cov-wt-minimizers/random/wt2delta-min.csv with metadata.\n",
      "Loaded outputs-reproduce/cov-wt-minimizers/random/wt2alpha-min.csv with metadata.\n",
      "Loaded outputs-reproduce/cov-wt-minimizers/random/wt2combined-min.csv with metadata.\n",
      "Loaded outputs-reproduce/cov-wt-minimizers/random/wt2beta-min.csv with metadata.\n",
      "Loaded outputs-reproduce/cov-wt-minimizers/esm2-150m-cos/wt2alpha-min.csv with metadata.\n",
      "Loaded outputs-reproduce/cov-wt-minimizers/esm2-150m-cos/wt2dms-min.csv with metadata.\n",
      "Loaded outputs-reproduce/cov-wt-minimizers/esm2-150m-cos/wt2delta-min.csv with metadata.\n",
      "Loaded outputs-reproduce/cov-wt-minimizers/esm2-150m-cos/wt2omicron-min.csv with metadata.\n",
      "Loaded outputs-reproduce/cov-wt-minimizers/esm2-150m-cos/wt2combined-min.csv with metadata.\n",
      "Loaded outputs-reproduce/cov-wt-minimizers/esm2-150m-cos/wt2beta-min.csv with metadata.\n",
      "Loaded outputs-reproduce/cov-wt-minimizers/esm2-650m-cos/wt2alpha-min.csv with metadata.\n",
      "Loaded outputs-reproduce/cov-wt-minimizers/esm2-650m-cos/wt2dms-min.csv with metadata.\n",
      "Loaded outputs-reproduce/cov-wt-minimizers/esm2-650m-cos/wt2delta-min.csv with metadata.\n",
      "Loaded outputs-reproduce/cov-wt-minimizers/esm2-650m-cos/wt2beta-min.csv with metadata.\n",
      "Loaded outputs-reproduce/cov-wt-minimizers/esm2-650m-cos/wt2omicron-min.csv with metadata.\n",
      "Loaded outputs-reproduce/cov-wt-minimizers/esm2-650m-cos/wt2combined-min.csv with metadata.\n"
     ]
    }
   ],
   "source": [
    "DB_MINIMIZER: dict[str, dict] = {}\n",
    "for path in DATASET_PATHS:\n",
    "    for root, dirs, files in os.walk(path):\n",
    "        for file in files:\n",
    "            if not file.endswith(\".csv\"):\n",
    "                continue\n",
    "            cur_path = os.path.join(root, file)\n",
    "\n",
    "            # Open the metadata file\n",
    "            cur_path_meta = cur_path[:-4] + \"-metadata.json\"\n",
    "            if not os.path.exists(cur_path_meta):\n",
    "                print(f\"Metadata file not found for {cur_path}. Skipping...\")\n",
    "                continue\n",
    "            # Open the metadata and validate the file schema\n",
    "            with open(cur_path_meta, \"r\") as f:\n",
    "                metadata = json.load(f)\n",
    "            for value in [\"escape\", \"result\", \"virus\", \"strain\", \"times\"]:\n",
    "                if value not in metadata:\n",
    "                    continue\n",
    "            # Create a unique serial to prevent duplicates\n",
    "            serial = f\"({metadata['escape']})-({metadata['result']})-({metadata['virus']})-({metadata['strain']})\"\n",
    "            if serial in DB_MINIMIZER:\n",
    "                print(f\"Duplicate entry found. Skipping...\")\n",
    "                continue\n",
    "\n",
    "            # Open the CSV file and load the data\n",
    "            with open(cur_path, \"r\") as f:\n",
    "                data = np.loadtxt(f, delimiter=\",\", skiprows=1, dtype=float)\n",
    "            # Add to the dictionary\n",
    "            DB_MINIMIZER[serial] = metadata | {\"data\": data}\n",
    "            print(f\"Loaded {cur_path} with metadata.\")"
   ]
  },
  {
   "cell_type": "markdown",
   "id": "0019a657",
   "metadata": {},
   "source": [
    "Export the list plots for the optimal coefficient ($\\gamma$) of CLIMB regularizer."
   ]
  },
  {
   "cell_type": "code",
   "execution_count": 4,
   "id": "955a6185",
   "metadata": {},
   "outputs": [
    {
     "name": "stdout",
     "output_type": "stream",
     "text": [
      "Saved figure to outputs-figures/cov-wt/optcoef-(e=wt2dms).pdf\n",
      "Saved figure to outputs-figures/cov-wt/optcoef-(e=wt2alpha).pdf\n",
      "Saved figure to outputs-figures/cov-wt/optcoef-(e=wt2beta).pdf\n",
      "Saved figure to outputs-figures/cov-wt/optcoef-(e=wt2delta).pdf\n",
      "Saved figure to outputs-figures/cov-wt/optcoef-(e=wt2omicron).pdf\n",
      "Saved figure to outputs-figures/cov-wt/optcoef-(e=wt2combined).pdf\n"
     ]
    }
   ],
   "source": [
    "values = list(entry[\"value\"] for entry in settings[\"datasets\"])\n",
    "labels = list(entry[\"label\"] for entry in settings[\"datasets\"])\n",
    "v2l_map = {entry[\"value\"]: entry[\"label\"] for entry in settings[\"datasets\"]}  # Value to label map\n",
    "\n",
    "for escape in settings[\"validation-sets\"]:\n",
    "    # Initialize the plot\n",
    "    plt.figure(figsize=(10, 6))\n",
    "\n",
    "    db_filtered = {}\n",
    "    for entry in DB_MINIMIZER.values():\n",
    "        if entry[\"escape\"] != escape:\n",
    "            continue\n",
    "        value = entry[\"result\"]\n",
    "        if value not in values:\n",
    "            continue\n",
    "        strain = entry[\"strain\"]\n",
    "        times = entry[\"data\"][:, 0]\n",
    "        db_filtered[value] = entry\n",
    "\n",
    "    values_filtered = [value for value in values if value in db_filtered]\n",
    "    labels_filtered = [v2l_map[value] for value in values_filtered]\n",
    "\n",
    "    for label, value in zip(labels_filtered, values_filtered):\n",
    "        entry = db_filtered[value]\n",
    "        x_p = entry[\"data\"][:, 3]  # Optimal coefficient for CLIMB (γ)\n",
    "        plt.plot(times, x_p, linestyle=\"-\", linewidth=3, alpha=0.85, label=label)\n",
    "\n",
    "    # Axes and labels\n",
    "    plt.ylim(0, 1.01)\n",
    "    plt.xlabel(\"Evolutionary Parameter (T)\")\n",
    "    plt.ylabel(\"Optimal Coefficient for CLIMB (γ)\")\n",
    "    plt.title(f\"Optimal CLIMB coefficient (γ) over T ({escape})\")\n",
    "    plt.legend()\n",
    "    plt.tight_layout()\n",
    "\n",
    "    # Prepare output directory\n",
    "    virus_prefix = an.STRAIN_DATA[strain][\"prefix\"]\n",
    "    escape_prefix = an.ESCAPE_DATA[escape][\"prefix\"]\n",
    "    output_dir = os.path.join(\"outputs-figures\", virus_prefix)\n",
    "    if not os.path.exists(output_dir):\n",
    "        os.makedirs(output_dir, exist_ok=True)\n",
    "\n",
    "    filename = f\"optcoef-(e={escape_prefix}).pdf\"\n",
    "    output_path = os.path.join(output_dir, filename)\n",
    "    plt.savefig(output_path, dpi=300)\n",
    "    plt.close()\n",
    "    print(f\"Saved figure to {output_path}\")"
   ]
  },
  {
   "cell_type": "code",
   "execution_count": null,
   "id": "1bb7e557",
   "metadata": {},
   "outputs": [],
   "source": []
  }
 ],
 "metadata": {
  "kernelspec": {
   "display_name": "viral-esm",
   "language": "python",
   "name": "python3"
  },
  "language_info": {
   "codemirror_mode": {
    "name": "ipython",
    "version": 3
   },
   "file_extension": ".py",
   "mimetype": "text/x-python",
   "name": "python",
   "nbconvert_exporter": "python",
   "pygments_lexer": "ipython3",
   "version": "3.10.17"
  }
 },
 "nbformat": 4,
 "nbformat_minor": 5
}
